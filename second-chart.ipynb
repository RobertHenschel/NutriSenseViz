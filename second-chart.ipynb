{
 "cells": [
  {
   "cell_type": "markdown",
   "source": [
    "**What does this notebook do?**\n",
    "- Load the exported CGM values from NutriSense\n",
    "- Print out what days are included in the dataset\n",
    "- Filter down CGM data to only one day\n",
    "- Interpolate missing data and smooth curve\n",
    "- Plot CGM data for that day"
   ],
   "metadata": {}
  },
  {
   "cell_type": "code",
   "execution_count": null,
   "source": [
    "import pandas as pd\n",
    "import plotly.express as px\n",
    "import datetime\n",
    "\n",
    "# Read in CSV file\n",
    "df = pd.read_csv('export.csv')\n",
    "\n",
    "# Remove \"time zone offset\" from \"occurred_at\" column and add new \"occurred_at_day\" column\n",
    "df['occurred_at_day'] = df['occurred_at'].apply(lambda x: x[:len(x) - 15])\n",
    "df['occurred_at'] = df['occurred_at'].apply(lambda x: x[:len(x) - 6])\n",
    "df.head()"
   ],
   "outputs": [],
   "metadata": {}
  },
  {
   "cell_type": "code",
   "execution_count": null,
   "source": [
    "# Print all days with data\n",
    "daysWithData = df['occurred_at_day'].unique()\n",
    "print(daysWithData)"
   ],
   "outputs": [],
   "metadata": {}
  },
  {
   "cell_type": "code",
   "execution_count": null,
   "source": [
    "# Filter down to one day, pick the second day in the dataset\n",
    "day = daysWithData[1]\n",
    "df = df[df['occurred_at_day']==day]\n",
    "\n",
    "# Create a datasets just with glucose measurments\n",
    "gm = df[df['class']=='GlucoseMeasurement']\n",
    "\n",
    "# Only keep the columns that we need\n",
    "gm_data = gm.filter(['occurred_at', 'value'])\n",
    "\n",
    "# rename the columns for easier readability\n",
    "gm_data.columns = ['time', 'value']\n",
    "\n",
    "# turn time column into the index and delete time column\n",
    "gm_data['time']= pd.to_datetime(gm_data['time'])\n",
    "gm_data.index = gm_data['time']\n",
    "del gm_data['time']\n",
    "\n",
    "gm_data = gm_data.resample('1T').mean() # add rows for every 1 minute\n",
    "gm_data = gm_data.interpolate(method='cubic') # interpolate the new 1 minute points with data\n",
    "\n",
    "# Chart the data\n",
    "fig = px.line(gm_data, y=\"value\")\n",
    "\n",
    "# Add axis titles\n",
    "fig.update_xaxes(title_text=str(day), tickformat='%H:%M')\n",
    "fig.update_yaxes(title_text='mg/dL')\n",
    "fig.show()"
   ],
   "outputs": [],
   "metadata": {}
  }
 ],
 "metadata": {
  "interpreter": {
   "hash": "31f2aee4e71d21fbe5cf8b01ff0e069b9275f58929596ceb00d14d90e3e16cd6"
  },
  "kernelspec": {
   "display_name": "Python 3",
   "language": "python",
   "name": "python3"
  },
  "language_info": {
   "codemirror_mode": {
    "name": "ipython",
    "version": 3
   },
   "file_extension": ".py",
   "mimetype": "text/x-python",
   "name": "python",
   "nbconvert_exporter": "python",
   "pygments_lexer": "ipython3",
   "version": "3.8.10"
  }
 },
 "nbformat": 4,
 "nbformat_minor": 2
}