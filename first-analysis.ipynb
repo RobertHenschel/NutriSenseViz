{
 "cells": [
  {
   "cell_type": "markdown",
   "metadata": {},
   "source": [
    "**What does this notebook do?**\n",
    "- Load the exported CGM values from NutriSense\n",
    "- Print what days are included in the dataset\n",
    "- Calculate simple statistics for every day in the dataset\n",
    "- Calculate the average glucose value across all days\n",
    "- Plot all the data, highlighting the average across all days"
   ]
  },
  {
   "cell_type": "code",
   "execution_count": null,
   "metadata": {},
   "outputs": [],
   "source": [
    "import pandas as pd\n",
    "import plotly.express as px\n",
    "import datetime\n",
    "\n",
    "# Read in CSV file\n",
    "df = pd.read_csv('export.csv')\n",
    "\n",
    "# Remove \"time zone offset\" from \"occurred_at\" column and add new \"occurred_at_day\" column\n",
    "df['occurred_at_day'] = df['occurred_at'].apply(lambda x: x[:len(x) - 15])\n",
    "df['occurred_at'] = df['occurred_at'].apply(lambda x: x[:len(x) - 6])\n",
    "df.head()"
   ]
  },
  {
   "cell_type": "code",
   "execution_count": null,
   "metadata": {},
   "outputs": [],
   "source": [
    "# Print all days with data\n",
    "daysWithData = df['occurred_at_day'].unique()\n",
    "print(daysWithData)"
   ]
  },
  {
   "cell_type": "code",
   "execution_count": null,
   "metadata": {},
   "outputs": [],
   "source": [
    "# Create a new dataset that only contains glucose measurements\n",
    "gm = df[df['class']=='GlucoseMeasurement']\n",
    "gm.head()"
   ]
  },
  {
   "cell_type": "code",
   "execution_count": null,
   "metadata": {},
   "outputs": [],
   "source": [
    "# Calculate a few simple metrics for every day\n",
    "\n",
    "# Create a data frame that will hold the metrics\n",
    "summaryData = pd.DataFrame(columns=[\"day\",\"averageGlucose\", \"medianGlucose\", \"minGlucose\", \"maxGlucose\"])\n",
    "\n",
    "# Loop through all days in the dataset and calulate metrics\n",
    "for day in daysWithData:\n",
    "    gmDataForOneDay = gm[gm['occurred_at_day']==day]\n",
    "    averageGlucose = int(round(gmDataForOneDay['value'].mean()))\n",
    "    medianGlucose = int(round(gmDataForOneDay['value'].median()))\n",
    "    maxGlucose = int(round(gmDataForOneDay['value'].max()))\n",
    "    minGlucose = int(round(gmDataForOneDay['value'].min()))\n",
    "    # Add to data frame\n",
    "    summaryData = summaryData.append({'day':day, 'averageGlucose':averageGlucose, 'medianGlucose':medianGlucose, \"minGlucose\":minGlucose, \"maxGlucose\":maxGlucose}, ignore_index=True)\n",
    "\n",
    "summaryData.head(n=10)"
   ]
  },
  {
   "cell_type": "code",
   "execution_count": null,
   "metadata": {},
   "outputs": [],
   "source": [
    "# Calculate average glucose across all days\n",
    "averageGlucoseAcrossAllDays = int(round(gm['value'].mean()))\n",
    "print(\"Average Glucose for \" + str(len(daysWithData)) + \" days: \" + str(averageGlucoseAcrossAllDays))"
   ]
  },
  {
   "cell_type": "code",
   "execution_count": null,
   "metadata": {},
   "outputs": [],
   "source": [
    "# Chart the data for all days\n",
    "fig = px.line(gm, x = \"occurred_at\", y=\"value\")\n",
    "\n",
    "# Draw the average as well\n",
    "fig.add_shape(type=\"line\", xref=\"x\", yref=\"y\", x0=gm.occurred_at.min(), y0=averageGlucoseAcrossAllDays, x1=gm.occurred_at.max() , y1=averageGlucoseAcrossAllDays, line_color=\"black\",)\n",
    "\n",
    "fig.show()"
   ]
  }
 ],
 "metadata": {
  "interpreter": {
   "hash": "31f2aee4e71d21fbe5cf8b01ff0e069b9275f58929596ceb00d14d90e3e16cd6"
  },
  "kernelspec": {
   "display_name": "Python 3",
   "language": "python",
   "name": "python3"
  },
  "language_info": {
   "codemirror_mode": {
    "name": "ipython",
    "version": 3
   },
   "file_extension": ".py",
   "mimetype": "text/x-python",
   "name": "python",
   "nbconvert_exporter": "python",
   "pygments_lexer": "ipython3",
   "version": "3.8.10"
  }
 },
 "nbformat": 4,
 "nbformat_minor": 2
}
