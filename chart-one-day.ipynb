{
    "cells": [
        {
            "cell_type": "markdown",
            "source": [
                "**What does this notebook do?**\n",
                "- Load the exported CGM values from NutriSense\n",
                "- Print out what days are included in the dataset\n",
                "- Pair down data to only one day, include CGM values, meals and exercise\n",
                "- Smooth CGM data and interpolate missing values\n",
                "- Calculate key metrics for that day\n",
                "- Plot everything"
            ],
            "metadata": {}
        },
        {
            "cell_type": "code",
            "execution_count": null,
            "source": [
                "import pandas as pd\n",
                "import plotly.express as px\n",
                "import datetime\n",
                "from datetime import date\n",
                "import numpy as np\n",
                "from numpy import trapz\n",
                "\n",
                "# Read in CSV file\n",
                "df = pd.read_csv('export.csv')\n",
                "\n",
                "# Remove \"time zone offset\" from \"occurred_at\" column and add new \"occurred_at_day\" column\n",
                "df['occurred_at_day'] = df['occurred_at'].apply(lambda x: x[:len(x) - 15])\n",
                "df['occurred_at'] = df['occurred_at'].apply(lambda x: x[:len(x) - 6])\n",
                "df"
            ],
            "outputs": [],
            "metadata": {}
        },
        {
            "cell_type": "code",
            "execution_count": null,
            "source": [
                "# Print all days with data\n",
                "daysWithData = df['occurred_at_day'].unique()\n",
                "print(daysWithData)"
            ],
            "outputs": [],
            "metadata": {}
        },
        {
            "cell_type": "code",
            "execution_count": null,
            "source": [
                "# Filter down to one day, pick the second day in the dataset\n",
                "df = df[df['occurred_at_day']==daysWithData[1]]\n",
                "day = datetime.datetime.strptime(daysWithData[1], '%Y-%m-%d').date()\n",
                "\n",
                "# Create three datasets, one for glucose measurments, meals and exercises\n",
                "gm = df[df['class']=='GlucoseMeasurement']\n",
                "meals = df[df['class']=='Meal']\n",
                "exercise = df[df['class']=='ExerciseActivity']\n",
                "\n",
                "# needed to avoid a \"SettingWithCopyWarning\" warning\n",
                "gm = gm.copy()\n",
                "gm.reset_index(drop=True, inplace=True)\n",
                "gm.head()\n"
            ],
            "outputs": [],
            "metadata": {}
        },
        {
            "cell_type": "code",
            "execution_count": null,
            "source": [
                "# Create a dataset with just 2 columns\n",
                "gm_data = gm.filter(['occurred_at', 'value'])\n",
                "\n",
                "# rename the columns for easier readability\n",
                "gm_data.columns = ['time', 'value']\n",
                "\n",
                "# turn time column into the index and delete time column\n",
                "gm_data['time']= pd.to_datetime(gm_data['time'])\n",
                "gm_data.index = gm_data['time']\n",
                "del gm_data['time']\n",
                "\n",
                "gm_data = gm_data.resample('1T').mean() # add rows for every 1 minute\n",
                "gm_data = gm_data.interpolate(method='cubic') # interpolate the new 1 minute points with data\n",
                "\n",
                "# Calculate a few metrics\n",
                "threshold = 100  # this is an arbitrary threshold\n",
                "above = gm_data[gm_data['value'] > threshold] # create a dataset with glucose measuremnts over threshold\n",
                "minutesAboveThreshold = above.count()\n",
                "print('Number of minutes above '+str(threshold)+': '+ minutesAboveThreshold.to_string(index=False))\n",
                "\n",
                "# calculate area under the curve for the whole day\n",
                "new_array = np.concatenate( gm_data.values )\n",
                "totalGlucose = trapz(new_array, dx=1)\n",
                "print(\"Total Glucose = \" + str(int(round(totalGlucose,0))))\n",
                "\n",
                "percentageAboveThreshold = int(round(minutesAboveThreshold/(60*24)*100,0))\n",
                "print(\"Time above Threshold = \"+str(percentageAboveThreshold)+\"%\")\n",
                "\n",
                "averageGlucose = int(round(gm_data['value'].mean()))\n",
                "medianGlucose = int(round(gm_data['value'].median()))\n",
                "print(\"Average Glucose = \"+str(averageGlucose))\n",
                "print(\"Median Glucose  = \"+str(medianGlucose))"
            ],
            "outputs": [],
            "metadata": {}
        },
        {
            "cell_type": "code",
            "execution_count": null,
            "source": [
                "fig = px.line(gm_data, y=\"value\")\n",
                "\n",
                "# add meals to the chart\n",
                "i = 1\n",
                "for index, row in meals.iterrows():\n",
                "    time = datetime.datetime.strptime(row['occurred_at'], '%Y-%m-%d %H:%M:%S')\n",
                "    # draw a vertical line at the time of the meal\n",
                "    fig.add_shape(type=\"line\", xref=\"x\", yref=\"y\", x0=time, y0=70, x1=time , y1=140, line_color=\"black\",)\n",
                "    if (i % 2) == 0:\n",
                "        y = 60\n",
                "    else:\n",
                "        y = 65\n",
                "    fig.add_annotation(text=row['description'], xref=\"x\", yref=\"y\",\n",
                "        x=time - datetime.timedelta(minutes=5), y=y, showarrow=False)\n",
                "    i = i + 1\n",
                "\n",
                "\n",
                "# add exercise to the chart\n",
                "i = 1\n",
                "for index, row in exercise.iterrows():\n",
                "    time = datetime.datetime.strptime(row['occurred_at'], '%Y-%m-%d %H:%M:%S')\n",
                "    fig.add_shape(type=\"line\", xref=\"x\", yref=\"y\", x0=time, y0=70, x1=time , y1=140, line_color=\"black\",)\n",
                "    if (i % 2) == 0:\n",
                "        y = 60\n",
                "    else:\n",
                "        y = 65\n",
                "    fig.add_annotation(text=row['description'], xref=\"x\", yref=\"y\",\n",
                "        x=time - datetime.timedelta(minutes=5), y=y, showarrow=False)\n",
                "    i = i + 1\n",
                "\n",
                "# Draw a line at the threshold\n",
                "fig.add_shape(type=\"line\",\n",
                "    xref=\"x\", yref=\"y\",\n",
                "    x0=gm_data.index[0], y0=threshold, x1=gm_data.index.max(), y1=threshold,\n",
                "    line_color=\"black\",)\n",
                "\n",
                "# Show text box with summary values\n",
                "fig.add_annotation(\n",
                "                text='Total Glucose = '+str(int(round(totalGlucose,0)))+\n",
                "                '<br>Above Threshold Minutes = '+str(int(round(minutesAboveThreshold,0)))+\n",
                "                '<br>Time above Threshold = '+str(percentageAboveThreshold)+\"%\"+\n",
                "                '<br>Threshold = '+str(threshold)+\n",
                "                '<br>Average Glucose = '+str(averageGlucose)+\n",
                "                '<br>Median Glucose = '+str(medianGlucose),\n",
                "                align='right', showarrow=False,\n",
                "                xref='paper', yref='paper', x=0.01, y=0.875,\n",
                "                bordercolor='black', borderwidth=1\n",
                "            )\n",
                "\n",
                "# Set x and y axis title and unit\n",
                "fig.update_xaxes(title_text=str(day), tickformat='%H:%M')\n",
                "fig.update_yaxes(title_text='mg/dL')\n",
                "fig.show()"
            ],
            "outputs": [],
            "metadata": {}
        }
    ],
    "metadata": {
        "orig_nbformat": 4,
        "language_info": {
            "name": "python",
            "version": "3.8.10",
            "mimetype": "text/x-python",
            "codemirror_mode": {
                "name": "ipython",
                "version": 3
            },
            "pygments_lexer": "ipython3",
            "nbconvert_exporter": "python",
            "file_extension": ".py"
        },
        "kernelspec": {
            "name": "python3",
            "display_name": "Python 3.8.10 64-bit"
        },
        "interpreter": {
            "hash": "31f2aee4e71d21fbe5cf8b01ff0e069b9275f58929596ceb00d14d90e3e16cd6"
        }
    },
    "nbformat": 4,
    "nbformat_minor": 2
}